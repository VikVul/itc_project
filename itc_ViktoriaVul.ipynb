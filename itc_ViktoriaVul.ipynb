{
 "cells": [
  {
   "cell_type": "code",
   "execution_count": 1,
   "metadata": {},
   "outputs": [],
   "source": [
    "# my first time with categorical data and decision tree (mostly worked on numerical data)\n",
    "# so basically i learn this 'on the go'. - so sorry for the mess. im sure it could be done more nicely\n",
    "import pandas as pd\n",
    "import sys\n",
    "import sklearn\n",
    "import seaborn as sns\n",
    "from datetime import datetime\n",
    "from pytz import timezone\n",
    "import numpy as np\n",
    "import matplotlib.pyplot as plt\n",
    "import matplotlib.image as mpimg\n",
    "from sklearn import model_selection"
   ]
  },
  {
   "cell_type": "code",
   "execution_count": 2,
   "metadata": {},
   "outputs": [],
   "source": [
    "#from model_selection import train_test_split\n",
    "from sklearn import tree\n",
    "from sklearn.tree import DecisionTreeClassifier, export_graphviz"
   ]
  },
  {
   "cell_type": "code",
   "execution_count": 3,
   "metadata": {},
   "outputs": [],
   "source": [
    "def get_part_of_day(hour):\n",
    "    return (\n",
    "        'morning' if (5 <= hour <= 11)\n",
    "        else\n",
    "        'afternoon' if (12 <= hour <= 17)\n",
    "        else\n",
    "        'evening' if (18 <= hour <= 22)\n",
    "        else\n",
    "        'night')\n"
   ]
  },
  {
   "cell_type": "code",
   "execution_count": 4,
   "metadata": {},
   "outputs": [],
   "source": [
    "db= pd.read_csv('./android_bids_us.csv')\n",
    "us_states_utc = pd.read_csv('./us_state_utc_offset.csv')\n",
    "us_state_abbrev = {\n",
    "    'Alabama': 'AL',\n",
    "    'Alaska': 'AK',\n",
    "    'American Samoa': 'AS',\n",
    "    'Arizona': 'AZ',\n",
    "    'Arkansas': 'AR',\n",
    "    'California': 'CA',\n",
    "    'Colorado': 'CO',\n",
    "    'Connecticut': 'CT',\n",
    "    'Delaware': 'DE',\n",
    "    'District of Columbia': 'DC',\n",
    "    'Florida': 'FL',\n",
    "    'Georgia': 'GA',\n",
    "    'Guam': 'GU',\n",
    "    'Hawaii': 'HI',\n",
    "    'Idaho': 'ID',\n",
    "    'Illinois': 'IL',\n",
    "    'Indiana': 'IN',\n",
    "    'Iowa': 'IA',\n",
    "    'Kansas': 'KS',\n",
    "    'Kentucky': 'KY',\n",
    "    'Louisiana': 'LA',\n",
    "    'Maine': 'ME',\n",
    "    'Maryland': 'MD',\n",
    "    'Massachusetts': 'MA',\n",
    "    'Michigan': 'MI',\n",
    "    'Minnesota': 'MN',\n",
    "    'Mississippi': 'MS',\n",
    "    'Missouri': 'MO',\n",
    "    'Montana': 'MT',\n",
    "    'Nebraska': 'NE',\n",
    "    'Nevada': 'NV',\n",
    "    'New Hampshire': 'NH',\n",
    "    'New Jersey': 'NJ',\n",
    "    'New Mexico': 'NM',\n",
    "    'New York': 'NY',\n",
    "    'North Carolina': 'NC',\n",
    "    'North Dakota': 'ND',\n",
    "    'Northern Mariana Islands':'MP',\n",
    "    'Ohio': 'OH',\n",
    "    'Oklahoma': 'OK',\n",
    "    'Oregon': 'OR',\n",
    "    'Pennsylvania': 'PA',\n",
    "    'Puerto Rico': 'PR',\n",
    "    'Rhode Island': 'RI',\n",
    "    'South Carolina': 'SC',\n",
    "    'South Dakota': 'SD',\n",
    "    'Tennessee': 'TN',\n",
    "    'Texas': 'TX',\n",
    "    'Utah': 'UT',\n",
    "    'Vermont': 'VT',\n",
    "    'Virgin Islands': 'VI',\n",
    "    'Virginia': 'VA',\n",
    "    'Washington': 'WA',\n",
    "    'West Virginia': 'WV',\n",
    "    'Wisconsin': 'WI',\n",
    "    'Wyoming': 'WY'\n",
    "}"
   ]
  },
  {
   "cell_type": "code",
   "execution_count": 5,
   "metadata": {
    "scrolled": true
   },
   "outputs": [
    {
     "data": {
      "text/plain": [
       "(1049610, 12)"
      ]
     },
     "execution_count": 5,
     "metadata": {},
     "output_type": "execute_result"
    }
   ],
   "source": [
    "# now i shrink the given data because i keep getting \"memory errors\" - u really crazy guys, its very annoying i need to spend so much time on memory issues\n",
    "index = range( 0,db.shape[0], 3 ) # i know i chose it very poorly - but i dont have much time left to make it right\n",
    "db = db.loc[index]\n",
    "db.shape"
   ]
  },
  {
   "cell_type": "code",
   "execution_count": 6,
   "metadata": {},
   "outputs": [],
   "source": [
    "string=[]\n",
    "for state in us_states_utc.us_state:\n",
    "    if state in us_state_abbrev.keys():\n",
    "        string.append(us_state_abbrev[state])\n",
    "    if state == 'U.S. Minor Outlying Islands':\n",
    "        string.append('UM')\n",
    "us_states_utc['abbrev_state']=string\n",
    "\n",
    "db['user_datetime'] = pd.to_datetime(db.utc_time, unit='ms', )\n",
    "db['user_localtime'] = pd.to_datetime(db.utc_time, unit='ms', )\n",
    "us_states_utc['utc_minus'] = pd.to_timedelta(us_states_utc['utc_minus'])\n",
    "\n",
    "for state, zmin, utct in zip(us_states_utc.abbrev_state, us_states_utc['0_minus'] , us_states_utc['utc_minus'] ):\n",
    "    if zmin == 0 and state in str(db.user_state):\n",
    "        fixed_t = db[db['user_state'] == state].user_localtime - pd.Timedelta(utct)\n",
    "        db.loc[db['user_state'] == state , 'user_localtime'] = fixed_t\n",
    "    elif zmin == 1 and state in str(db.user_state):\n",
    "        fixed_t1 = db[db['user_state'] == state].user_localtime + pd.Timedelta(utct)\n",
    "        db.loc[db['user_state'] == state , 'user_localtime'] = fixed_t1\n",
    "\n",
    "db['week_day'] = db.user_localtime.dt.dayofweek\n",
    "for i, day in zip( range( 7 ), ['Monday', 'Tuesday', 'Wednesday', 'Thursday', 'Friday', 'Saturday', 'Sunday'] ):\n",
    "    db.loc[db['week_day'] == float( i ), 'week_day'] = day\n",
    "\n",
    "db['user_localtime'] = db.user_localtime.dt.ceil( freq='MIN' )\n",
    "db['user_time'] = db['user_localtime'].dt.time\n",
    "db['user_date'] = db['user_localtime'].dt.date\n",
    "db['user_hour'] = db['user_localtime'].dt.hour\n",
    "\n",
    "hours = []\n",
    "for hr in db['user_hour']:\n",
    "    hours.append(get_part_of_day(hr))\n",
    "db['part_of_day'] = hours"
   ]
  },
  {
   "cell_type": "code",
   "execution_count": 7,
   "metadata": {},
   "outputs": [],
   "source": [
    "screen_size =[]\n",
    "rotate = []\n",
    "for i,j in zip(db['device_height'],db['device_width']):\n",
    "    screen_size.append(i*j)\n",
    "    if i>j:\n",
    "        rotate.append(0)\n",
    "    else:\n",
    "        rotate.append(1)\n",
    "db['screen_size'] = screen_size\n",
    "db['rotate_screen'] = rotate"
   ]
  },
  {
   "cell_type": "code",
   "execution_count": 8,
   "metadata": {},
   "outputs": [],
   "source": [
    "del db['user_datetime']\n",
    "del db['user_localtime']\n",
    "del db['utc_time']\n",
    "del db['marketplace']\n",
    "del db['bidid']\n",
    "del db['user_time']\n",
    "del db['device_height']\n",
    "del db['device_width']\n",
    "del db['user_date']\n",
    "del db['user_hour']"
   ]
  },
  {
   "cell_type": "code",
   "execution_count": 9,
   "metadata": {},
   "outputs": [
    {
     "data": {
      "text/plain": [
       "Text(0.5, 1.0, 'Correlation Matrix')"
      ]
     },
     "execution_count": 9,
     "metadata": {},
     "output_type": "execute_result"
    },
    {
     "data": {
      "image/png": "[encoded data removed]",
      "text/plain": [
       "<Figure size 432x288 with 2 Axes>"
      ]
     },
     "metadata": {
      "needs_background": "light"
     },
     "output_type": "display_data"
    }
   ],
   "source": [
    "numeric_bank_df = db.select_dtypes(exclude=\"object\")\n",
    "corr_numeric = numeric_bank_df.corr()\n",
    "\n",
    "sns.heatmap(corr_numeric, cbar=True, cmap=\"RdBu_r\")\n",
    "plt.title(\"Correlation Matrix\", fontsize=16,) # we see a little bit correlation between screen size and click"
   ]
  },
  {
   "cell_type": "code",
   "execution_count": 10,
   "metadata": {},
   "outputs": [
    {
     "data": {
      "image/png": "[encoded data removed]",
      "text/plain": [
       "<Figure size 432x288 with 1 Axes>"
      ]
     },
     "metadata": {
      "needs_background": "light"
     },
     "output_type": "display_data"
    },
    {
     "name": "stdout",
     "output_type": "stream",
     "text": [
      "total number of no :  978599\n",
      "total number of yes :  71011\n"
     ]
    }
   ],
   "source": [
    "import matplotlib.pyplot as plt\n",
    "import matplotlib.image as mpimg\n",
    "\n",
    "sns.countplot(x = 'click', data=db, palette='hls')\n",
    "plt.xlabel('Click', fontsize=12)\n",
    "plt.ylabel('num of users', fontsize=13)\n",
    "plt.show()\n",
    "print(\"total number of no : \", len(db[db['click']==0]))\n",
    "print(\"total number of yes : \", len(db[db['click']==1]))\n",
    "# total amounts od clicks "
   ]
  },
  {
   "cell_type": "code",
   "execution_count": 11,
   "metadata": {},
   "outputs": [
    {
     "name": "stdout",
     "output_type": "stream",
     "text": [
      "app_id : 12088 labels\n",
      "user_state : 51 labels\n",
      "user_isp : 2735 labels\n",
      "device_maker : 207 labels\n",
      "device_model : 1866 labels\n",
      "device_osv : 18 labels\n",
      "click : 2 labels\n",
      "week_day : 7 labels\n",
      "part_of_day : 4 labels\n",
      "screen_size : 314 labels\n",
      "rotate_screen : 2 labels\n"
     ]
    },
    {
     "data": {
      "text/plain": [
       "'app_id : 12088 labels\\nuser_state : 51 labels\\nuser_isp : 2735 labels\\ndevice_maker : 207 labels\\ndevice_model : 1866 labels\\ndevice_osv : 18 labels\\nclick : 2 labels\\nweek_day : 7 labels\\npart_of_day : 4 labels\\nscreen_size : 314 labels\\nrotate_screen : 2 labels'"
      ]
     },
     "execution_count": 11,
     "metadata": {},
     "output_type": "execute_result"
    }
   ],
   "source": [
    "\n",
    "for col in db.columns:\n",
    "    print(col, ':', len(db[col].unique()), 'labels')\n",
    "    \n",
    "'''app_id : 12088 labels\n",
    "user_state : 51 labels\n",
    "user_isp : 2735 labels\n",
    "device_maker : 207 labels\n",
    "device_model : 1866 labels\n",
    "device_osv : 18 labels\n",
    "click : 2 labels\n",
    "week_day : 7 labels\n",
    "part_of_day : 4 labels\n",
    "screen_size : 314 labels\n",
    "rotate_screen : 2 labels'''"
   ]
  },
  {
   "cell_type": "code",
   "execution_count": 12,
   "metadata": {},
   "outputs": [],
   "source": [
    "top10_app_id =['com.banananadco.blackjack', 'com.kiloo.subwaysurf','toy.blast.pop.cubes.puzzle', 'com.blackcircleapps.halloweenbingo',\n",
    "       'com.mobilityware.CrownSolitaire', 'com.mobilityware.spider','com.mobilityware.freecell', 'com.RocketGames.ClassicSlots',\n",
    "       'com.thumbspire.weedfirm2', 'com.spacegame.basic3']\n",
    "for label in top10_app_id:\n",
    "    db['app_id '+label] = np.where(db['app_id']==label, 1, 0)\n",
    "    \n",
    "top10_states = ['TX', 'CA', 'FL', 'IL', 'NY', 'GA', 'MI', 'NC', 'OH', 'PA']\n",
    "for label in top10_states:\n",
    "    db['state '+label] = np.where(db['user_state']==label, 1, 0)\n",
    "    \n",
    "top7_isp = ['T-Mobile USA', 'Spectrum', 'Comcast Cable', 'AT&T Wireless',\n",
    "       'Sprint PCS', 'Verizon Wireless', 'AT&T U-verse']\n",
    "for label in top7_isp:\n",
    "    db['isp '+label] = np.where(db['user_isp']==label, 1, 0)\n",
    "\n",
    "top7_Dmaker = ['Samsung', 'LG', 'Motorola', 'ZTE', 'ALCATEL', 'HTC', 'Google']\n",
    "for label in top7_Dmaker:\n",
    "    db['marker '+label] = np.where(db['device_maker']==label, 1, 0)\n",
    "    \n",
    "top7_Dmodel = ['LM-X210(G)', 'SM-J327T1', 'Moto E4', 'MP260', 'MS210', 'SM-G955U','SM-G950U']\n",
    "for label in top7_Dmodel:\n",
    "    db['model '+label] = np.where(db['device_model']==label, 1, 0)\n",
    "    \n",
    "top5_osv = ['7.0', '8.0.0', '7.1.1', '6.0.1', '7.1.2']\n",
    "for label in top5_osv:\n",
    "    db['osv '+label] = np.where(db['device_osv']==label, 1, 0)\n",
    "\n",
    "parts_of_day = ['afternoon', 'evening', 'morning', 'night']\n",
    "for label in parts_of_day:\n",
    "    db[label] = np.where(db['part_of_day']==label, 1, 0)\n",
    "    \n",
    "days_of_week = ['Saturday', 'Thursday', 'Sunday', 'Tuesday', 'Monday', 'Wednesday','Friday']\n",
    "for label in days_of_week:\n",
    "    db[label] = np.where(db['week_day']==label, 1, 0)    \n",
    "\n",
    "    \n",
    "del db['app_id']\n",
    "del db['user_state']\n",
    "del db['user_isp']\n",
    "del db['device_maker']\n",
    "del db['device_model']\n",
    "del db['device_osv']\n",
    "del db['part_of_day']\n",
    "del db['week_day']"
   ]
  },
  {
   "cell_type": "code",
   "execution_count": 13,
   "metadata": {},
   "outputs": [],
   "source": [
    "clicks =  db['click'] #move decision col to the edge\n",
    "del db['click']"
   ]
  },
  {
   "cell_type": "code",
   "execution_count": 14,
   "metadata": {},
   "outputs": [
    {
     "data": {
      "text/html": [
       "<div>\n",
       "<style scoped>\n",
       "    .dataframe tbody tr th:only-of-type {\n",
       "        vertical-align: middle;\n",
       "    }\n",
       "\n",
       "    .dataframe tbody tr th {\n",
       "        vertical-align: top;\n",
       "    }\n",
       "\n",
       "    .dataframe thead th {\n",
       "        text-align: right;\n",
       "    }\n",
       "</style>\n",
       "<table border=\"1\" class=\"dataframe\">\n",
       "  <thead>\n",
       "    <tr style=\"text-align: right;\">\n",
       "      <th></th>\n",
       "      <th>screen_size</th>\n",
       "      <th>rotate_screen</th>\n",
       "      <th>app_id com.banananadco.blackjack</th>\n",
       "      <th>app_id com.kiloo.subwaysurf</th>\n",
       "      <th>app_id toy.blast.pop.cubes.puzzle</th>\n",
       "      <th>app_id com.blackcircleapps.halloweenbingo</th>\n",
       "      <th>app_id com.mobilityware.CrownSolitaire</th>\n",
       "      <th>app_id com.mobilityware.spider</th>\n",
       "      <th>app_id com.mobilityware.freecell</th>\n",
       "      <th>app_id com.RocketGames.ClassicSlots</th>\n",
       "      <th>...</th>\n",
       "      <th>evening</th>\n",
       "      <th>morning</th>\n",
       "      <th>night</th>\n",
       "      <th>Saturday</th>\n",
       "      <th>Thursday</th>\n",
       "      <th>Sunday</th>\n",
       "      <th>Tuesday</th>\n",
       "      <th>Monday</th>\n",
       "      <th>Wednesday</th>\n",
       "      <th>Friday</th>\n",
       "    </tr>\n",
       "  </thead>\n",
       "  <tbody>\n",
       "    <tr>\n",
       "      <th>0</th>\n",
       "      <td>921600</td>\n",
       "      <td>1</td>\n",
       "      <td>0</td>\n",
       "      <td>0</td>\n",
       "      <td>0</td>\n",
       "      <td>0</td>\n",
       "      <td>0</td>\n",
       "      <td>0</td>\n",
       "      <td>0</td>\n",
       "      <td>0</td>\n",
       "      <td>...</td>\n",
       "      <td>0</td>\n",
       "      <td>0</td>\n",
       "      <td>0</td>\n",
       "      <td>1</td>\n",
       "      <td>0</td>\n",
       "      <td>0</td>\n",
       "      <td>0</td>\n",
       "      <td>0</td>\n",
       "      <td>0</td>\n",
       "      <td>0</td>\n",
       "    </tr>\n",
       "    <tr>\n",
       "      <th>3</th>\n",
       "      <td>921600</td>\n",
       "      <td>1</td>\n",
       "      <td>0</td>\n",
       "      <td>0</td>\n",
       "      <td>0</td>\n",
       "      <td>0</td>\n",
       "      <td>0</td>\n",
       "      <td>0</td>\n",
       "      <td>0</td>\n",
       "      <td>0</td>\n",
       "      <td>...</td>\n",
       "      <td>0</td>\n",
       "      <td>0</td>\n",
       "      <td>0</td>\n",
       "      <td>1</td>\n",
       "      <td>0</td>\n",
       "      <td>0</td>\n",
       "      <td>0</td>\n",
       "      <td>0</td>\n",
       "      <td>0</td>\n",
       "      <td>0</td>\n",
       "    </tr>\n",
       "    <tr>\n",
       "      <th>6</th>\n",
       "      <td>921600</td>\n",
       "      <td>1</td>\n",
       "      <td>0</td>\n",
       "      <td>0</td>\n",
       "      <td>0</td>\n",
       "      <td>0</td>\n",
       "      <td>0</td>\n",
       "      <td>0</td>\n",
       "      <td>0</td>\n",
       "      <td>0</td>\n",
       "      <td>...</td>\n",
       "      <td>0</td>\n",
       "      <td>0</td>\n",
       "      <td>0</td>\n",
       "      <td>1</td>\n",
       "      <td>0</td>\n",
       "      <td>0</td>\n",
       "      <td>0</td>\n",
       "      <td>0</td>\n",
       "      <td>0</td>\n",
       "      <td>0</td>\n",
       "    </tr>\n",
       "  </tbody>\n",
       "</table>\n",
       "<p>3 rows × 59 columns</p>\n",
       "</div>"
      ],
      "text/plain": [
       "   screen_size  rotate_screen  app_id com.banananadco.blackjack  \\\n",
       "0       921600              1                                 0   \n",
       "3       921600              1                                 0   \n",
       "6       921600              1                                 0   \n",
       "\n",
       "   app_id com.kiloo.subwaysurf  app_id toy.blast.pop.cubes.puzzle  \\\n",
       "0                            0                                  0   \n",
       "3                            0                                  0   \n",
       "6                            0                                  0   \n",
       "\n",
       "   app_id com.blackcircleapps.halloweenbingo  \\\n",
       "0                                          0   \n",
       "3                                          0   \n",
       "6                                          0   \n",
       "\n",
       "   app_id com.mobilityware.CrownSolitaire  app_id com.mobilityware.spider  \\\n",
       "0                                       0                               0   \n",
       "3                                       0                               0   \n",
       "6                                       0                               0   \n",
       "\n",
       "   app_id com.mobilityware.freecell  app_id com.RocketGames.ClassicSlots  ...  \\\n",
       "0                                 0                                    0  ...   \n",
       "3                                 0                                    0  ...   \n",
       "6                                 0                                    0  ...   \n",
       "\n",
       "   evening  morning  night  Saturday  Thursday  Sunday  Tuesday  Monday  \\\n",
       "0        0        0      0         1         0       0        0       0   \n",
       "3        0        0      0         1         0       0        0       0   \n",
       "6        0        0      0         1         0       0        0       0   \n",
       "\n",
       "   Wednesday  Friday  \n",
       "0          0       0  \n",
       "3          0       0  \n",
       "6          0       0  \n",
       "\n",
       "[3 rows x 59 columns]"
      ]
     },
     "execution_count": 14,
     "metadata": {},
     "output_type": "execute_result"
    }
   ],
   "source": [
    "db.head(3)"
   ]
  },
  {
   "cell_type": "code",
   "execution_count": 15,
   "metadata": {},
   "outputs": [
    {
     "name": "stdout",
     "output_type": "stream",
     "text": [
      "click and features data type:  screen_size                                  int64\n",
      "rotate_screen                                int64\n",
      "app_id com.banananadco.blackjack             int32\n",
      "app_id com.kiloo.subwaysurf                  int32\n",
      "app_id toy.blast.pop.cubes.puzzle            int32\n",
      "app_id com.blackcircleapps.halloweenbingo    int32\n",
      "app_id com.mobilityware.CrownSolitaire       int32\n",
      "app_id com.mobilityware.spider               int32\n",
      "app_id com.mobilityware.freecell             int32\n",
      "app_id com.RocketGames.ClassicSlots          int32\n",
      "app_id com.thumbspire.weedfirm2              int32\n",
      "app_id com.spacegame.basic3                  int32\n",
      "state TX                                     int32\n",
      "state CA                                     int32\n",
      "state FL                                     int32\n",
      "state IL                                     int32\n",
      "state NY                                     int32\n",
      "state GA                                     int32\n",
      "state MI                                     int32\n",
      "state NC                                     int32\n",
      "state OH                                     int32\n",
      "state PA                                     int32\n",
      "isp T-Mobile USA                             int32\n",
      "isp Spectrum                                 int32\n",
      "isp Comcast Cable                            int32\n",
      "isp AT&T Wireless                            int32\n",
      "isp Sprint PCS                               int32\n",
      "isp Verizon Wireless                         int32\n",
      "isp AT&T U-verse                             int32\n",
      "marker Samsung                               int32\n",
      "marker LG                                    int32\n",
      "marker Motorola                              int32\n",
      "marker ZTE                                   int32\n",
      "marker ALCATEL                               int32\n",
      "marker HTC                                   int32\n",
      "marker Google                                int32\n",
      "model LM-X210(G)                             int32\n",
      "model SM-J327T1                              int32\n",
      "model Moto E4                                int32\n",
      "model MP260                                  int32\n",
      "model MS210                                  int32\n",
      "model SM-G955U                               int32\n",
      "model SM-G950U                               int32\n",
      "osv 7.0                                      int32\n",
      "osv 8.0.0                                    int32\n",
      "osv 7.1.1                                    int32\n",
      "osv 6.0.1                                    int32\n",
      "osv 7.1.2                                    int32\n",
      "afternoon                                    int32\n",
      "evening                                      int32\n",
      "morning                                      int32\n",
      "night                                        int32\n",
      "Saturday                                     int32\n",
      "Thursday                                     int32\n",
      "Sunday                                       int32\n",
      "Tuesday                                      int32\n",
      "Monday                                       int32\n",
      "Wednesday                                    int32\n",
      "Friday                                       int32\n",
      "dtype: object\n"
     ]
    }
   ],
   "source": [
    "print (\"click and features data type: \", db.dtypes)"
   ]
  },
  {
   "cell_type": "code",
   "execution_count": 17,
   "metadata": {},
   "outputs": [],
   "source": [
    "\n",
    "clicks1= clicks[0:50000] #i'll try to seprate to chunks later if i've got time\n",
    "db1=db[0:50000]"
   ]
  },
  {
   "cell_type": "code",
   "execution_count": 18,
   "metadata": {},
   "outputs": [
    {
     "name": "stdout",
     "output_type": "stream",
     "text": [
      "number of training samples:  40000\n",
      "number of test samples:  10000\n"
     ]
    }
   ],
   "source": [
    "from sklearn.model_selection import train_test_split\n",
    "\n",
    "X_train, X_test, y_train, y_test = train_test_split(db1, clicks1, test_size=0.20, stratify=clicks1)\n",
    "\n",
    "print (\"number of training samples: \", len(X_train))\n",
    "print (\"number of test samples: \", len(y_test))"
   ]
  },
  {
   "cell_type": "code",
   "execution_count": 19,
   "metadata": {},
   "outputs": [],
   "source": [
    "from tqdm import tqdm_notebook as tqdm\n",
    "import sklearn.externals\n",
    "from sklearn.tree import DecisionTreeClassifier \n",
    "from sklearn.pipeline import Pipeline\n",
    "from sklearn.model_selection import GridSearchCV\n",
    "from sklearn.preprocessing import StandardScaler"
   ]
  },
  {
   "cell_type": "code",
   "execution_count": 20,
   "metadata": {},
   "outputs": [
    {
     "data": {
      "text/plain": [
       "\"pipe_steps = [('scaler', StandardScaler()), ('decsT', DecisionTreeClassifier())]\\n\\ncheck_params = {'decsT__criterion':['gini', 'entropy'], \\n               'decsT__max_depth': np.arange(3, 15)}\\n\\npipeline = Pipeline(pipe_steps)\\nprint(pipeline)\""
      ]
     },
     "execution_count": 20,
     "metadata": {},
     "output_type": "execute_result"
    }
   ],
   "source": [
    "'''pipe_steps = [('scaler', StandardScaler()), ('decsT', DecisionTreeClassifier())]\n",
    "\n",
    "check_params = {'decsT__criterion':['gini', 'entropy'], \n",
    "               'decsT__max_depth': np.arange(3, 15)}\n",
    "\n",
    "pipeline = Pipeline(pipe_steps)\n",
    "print(pipeline)'''"
   ]
  },
  {
   "cell_type": "code",
   "execution_count": 21,
   "metadata": {},
   "outputs": [
    {
     "data": {
      "text/plain": [
       "'print (\"start fitting the data\") # k fold cross-validation\\nimport warnings\\nwarnings.filterwarnings(\"ignore\")\\n\\n\\nfor cv in tqdm(range(3, 6)):\\n    create_grid = GridSearchCV(pipeline, param_grid=check_params, cv=cv)\\n    create_grid.fit(X_train, y_train)\\n    print(\"score for %d fold CV := %3.2f\" %(cv, create_grid.score(X_test, y_test)))\\n    print (\"!!!! best fit parameters from GridSearchCV !!!!\")\\n    print (create_grid.best_params_)\\n\\nprint (\"out o\\' the loop\")'"
      ]
     },
     "execution_count": 21,
     "metadata": {},
     "output_type": "execute_result"
    }
   ],
   "source": [
    "'''print (\"start fitting the data\") # k fold cross-validation\n",
    "import warnings\n",
    "warnings.filterwarnings(\"ignore\")\n",
    "\n",
    "\n",
    "for cv in tqdm(range(3, 6)):\n",
    "    create_grid = GridSearchCV(pipeline, param_grid=check_params, cv=cv)\n",
    "    create_grid.fit(X_train, y_train)\n",
    "    print(\"score for %d fold CV := %3.2f\" %(cv, create_grid.score(X_test, y_test)))\n",
    "    print (\"!!!! best fit parameters from GridSearchCV !!!!\")\n",
    "    print (create_grid.best_params_)\n",
    "\n",
    "print (\"out o' the loop\")'''"
   ]
  },
  {
   "cell_type": "code",
   "execution_count": 22,
   "metadata": {},
   "outputs": [
    {
     "name": "stdout",
     "output_type": "stream",
     "text": [
      "score on the training data:  0.93405\n",
      "\n",
      "\n",
      "score on the test data:  0.9289\n"
     ]
    }
   ],
   "source": [
    "# preformance evaluation\n",
    "DecsTreeModel = DecisionTreeClassifier(criterion='gini', max_depth=10)\n",
    "DecsTreeModel.fit(X_train, y_train)\n",
    "\n",
    "\n",
    "train_score = DecsTreeModel.score(X_train, y_train)\n",
    "print (\"score on the training data: \", train_score)\n",
    "print (\"\\n\")\n",
    "\n",
    "test_score = DecsTreeModel.score(X_test, y_test)\n",
    "print (\"score on the test data: \", test_score)"
   ]
  },
  {
   "cell_type": "code",
   "execution_count": 23,
   "metadata": {},
   "outputs": [
    {
     "data": {
      "image/png": "[encoded data removed]",
      "text/plain": [
       "<Figure size 1080x792 with 1 Axes>"
      ]
     },
     "metadata": {},
     "output_type": "display_data"
    }
   ],
   "source": [
    "n_features = len(X_train.columns.values)\n",
    "\n",
    "sns.set(style=\"whitegrid\")\n",
    "\n",
    "fig = plt.figure(figsize=(15, 11))\n",
    "fig.tight_layout()\n",
    "plt.bar(range(n_features), DecsTreeModel.feature_importances_, color=\"magenta\", align=\"center\", alpha=0.6)\n",
    "plt.xticks(np.arange(n_features), X_train.columns.values, rotation=90, fontsize=11)\n",
    "plt.xlabel(\"Features\", fontsize=14)\n",
    "plt.ylabel(\"Feature Importance\", fontsize=14)\n",
    "plt.savefig(\"Feature_Importance.png\", dpi=300, bbox_inches='tight')"
   ]
  },
  {
   "cell_type": "code",
   "execution_count": null,
   "metadata": {},
   "outputs": [],
   "source": []
  }
 ],
 "metadata": {
  "kernelspec": {
   "display_name": "Python 3",
   "language": "python",
   "name": "python3"
  },
  "language_info": {
   "codemirror_mode": {
    "name": "ipython",
    "version": 3
   },
   "file_extension": ".py",
   "mimetype": "text/x-python",
   "name": "python",
   "nbconvert_exporter": "python",
   "pygments_lexer": "ipython3",
   "version": "3.7.7"
  }
 },
 "nbformat": 4,
 "nbformat_minor": 4
}
